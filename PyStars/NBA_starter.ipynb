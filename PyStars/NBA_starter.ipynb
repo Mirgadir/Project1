{
 "cells": [
  {
   "cell_type": "code",
   "execution_count": 82,
   "metadata": {},
   "outputs": [],
   "source": [
    "import matplotlib.pyplot as plt\n",
    "import pandas as pd\n",
    "import numpy as np\n",
    "import requests\n",
    "import gmaps\n",
    "import os\n",
    "import json\n",
    "import matplotlib.image as mpimg\n",
    "import matplotlib as mpl\n",
    "\n",
    "# Import API key\n",
    "from api_keys import g_key"
   ]
  },
  {
   "cell_type": "code",
   "execution_count": 83,
   "metadata": {
    "tags": []
   },
   "outputs": [
    {
     "output_type": "stream",
     "name": "stdout",
     "text": "In season 2019-2020 prior to COVID-19 were played: 602 games\n"
    }
   ],
   "source": [
    "# open games.csv from raw_data folder\n",
    "games = '../raw_data/games.csv'\n",
    "games_df = pd.read_csv(games)\n",
    "# make a list of current season games ID's\n",
    "games_df.head()\n",
    "games_id = list(games_df['GAME_ID'])\n",
    "print(f\"In season 2019-2020 prior to COVID-19 were played: {len(games_id)} games\")"
   ]
  },
  {
   "cell_type": "code",
   "execution_count": 84,
   "metadata": {},
   "outputs": [
    {
     "output_type": "execute_result",
     "data": {
      "text/plain": "    GAME_ID     TEAM_ID TEAM_ABBREVIATION  TEAM_CITY  PLAYER_ID  \\\n0  21900895  1610612749               MIL  Milwaukee     202083   \n1  21900895  1610612749               MIL  Milwaukee     203507   \n2  21900895  1610612749               MIL  Milwaukee     201572   \n3  21900895  1610612749               MIL  Milwaukee    1628978   \n4  21900895  1610612749               MIL  Milwaukee     202339   \n\n             PLAYER_NAME START_POSITION COMMENT    MIN   FGM  ...  OREB  DREB  \\\n0        Wesley Matthews              F     NaN  27:08   3.0  ...   4.0   4.0   \n1  Giannis Antetokounmpo              F     NaN  34:55  17.0  ...   2.0  18.0   \n2            Brook Lopez              C     NaN  26:25   4.0  ...   2.0   5.0   \n3       Donte DiVincenzo              G     NaN  27:35   1.0  ...   1.0   6.0   \n4           Eric Bledsoe              G     NaN  22:17   2.0  ...   1.0   0.0   \n\n    REB  AST  STL  BLK   TO   PF   PTS  PLUS_MINUS  \n0   8.0  2.0  2.0  0.0  0.0  0.0   8.0        11.0  \n1  20.0  6.0  1.0  0.0  3.0  2.0  41.0        22.0  \n2   7.0  0.0  0.0  3.0  0.0  2.0  16.0        16.0  \n3   7.0  5.0  0.0  1.0  2.0  0.0   2.0        14.0  \n4   1.0  2.0  1.0  0.0  3.0  2.0   4.0         6.0  \n\n[5 rows x 28 columns]",
      "text/html": "<div>\n<style scoped>\n    .dataframe tbody tr th:only-of-type {\n        vertical-align: middle;\n    }\n\n    .dataframe tbody tr th {\n        vertical-align: top;\n    }\n\n    .dataframe thead th {\n        text-align: right;\n    }\n</style>\n<table border=\"1\" class=\"dataframe\">\n  <thead>\n    <tr style=\"text-align: right;\">\n      <th></th>\n      <th>GAME_ID</th>\n      <th>TEAM_ID</th>\n      <th>TEAM_ABBREVIATION</th>\n      <th>TEAM_CITY</th>\n      <th>PLAYER_ID</th>\n      <th>PLAYER_NAME</th>\n      <th>START_POSITION</th>\n      <th>COMMENT</th>\n      <th>MIN</th>\n      <th>FGM</th>\n      <th>...</th>\n      <th>OREB</th>\n      <th>DREB</th>\n      <th>REB</th>\n      <th>AST</th>\n      <th>STL</th>\n      <th>BLK</th>\n      <th>TO</th>\n      <th>PF</th>\n      <th>PTS</th>\n      <th>PLUS_MINUS</th>\n    </tr>\n  </thead>\n  <tbody>\n    <tr>\n      <th>0</th>\n      <td>21900895</td>\n      <td>1610612749</td>\n      <td>MIL</td>\n      <td>Milwaukee</td>\n      <td>202083</td>\n      <td>Wesley Matthews</td>\n      <td>F</td>\n      <td>NaN</td>\n      <td>27:08</td>\n      <td>3.0</td>\n      <td>...</td>\n      <td>4.0</td>\n      <td>4.0</td>\n      <td>8.0</td>\n      <td>2.0</td>\n      <td>2.0</td>\n      <td>0.0</td>\n      <td>0.0</td>\n      <td>0.0</td>\n      <td>8.0</td>\n      <td>11.0</td>\n    </tr>\n    <tr>\n      <th>1</th>\n      <td>21900895</td>\n      <td>1610612749</td>\n      <td>MIL</td>\n      <td>Milwaukee</td>\n      <td>203507</td>\n      <td>Giannis Antetokounmpo</td>\n      <td>F</td>\n      <td>NaN</td>\n      <td>34:55</td>\n      <td>17.0</td>\n      <td>...</td>\n      <td>2.0</td>\n      <td>18.0</td>\n      <td>20.0</td>\n      <td>6.0</td>\n      <td>1.0</td>\n      <td>0.0</td>\n      <td>3.0</td>\n      <td>2.0</td>\n      <td>41.0</td>\n      <td>22.0</td>\n    </tr>\n    <tr>\n      <th>2</th>\n      <td>21900895</td>\n      <td>1610612749</td>\n      <td>MIL</td>\n      <td>Milwaukee</td>\n      <td>201572</td>\n      <td>Brook Lopez</td>\n      <td>C</td>\n      <td>NaN</td>\n      <td>26:25</td>\n      <td>4.0</td>\n      <td>...</td>\n      <td>2.0</td>\n      <td>5.0</td>\n      <td>7.0</td>\n      <td>0.0</td>\n      <td>0.0</td>\n      <td>3.0</td>\n      <td>0.0</td>\n      <td>2.0</td>\n      <td>16.0</td>\n      <td>16.0</td>\n    </tr>\n    <tr>\n      <th>3</th>\n      <td>21900895</td>\n      <td>1610612749</td>\n      <td>MIL</td>\n      <td>Milwaukee</td>\n      <td>1628978</td>\n      <td>Donte DiVincenzo</td>\n      <td>G</td>\n      <td>NaN</td>\n      <td>27:35</td>\n      <td>1.0</td>\n      <td>...</td>\n      <td>1.0</td>\n      <td>6.0</td>\n      <td>7.0</td>\n      <td>5.0</td>\n      <td>0.0</td>\n      <td>1.0</td>\n      <td>2.0</td>\n      <td>0.0</td>\n      <td>2.0</td>\n      <td>14.0</td>\n    </tr>\n    <tr>\n      <th>4</th>\n      <td>21900895</td>\n      <td>1610612749</td>\n      <td>MIL</td>\n      <td>Milwaukee</td>\n      <td>202339</td>\n      <td>Eric Bledsoe</td>\n      <td>G</td>\n      <td>NaN</td>\n      <td>22:17</td>\n      <td>2.0</td>\n      <td>...</td>\n      <td>1.0</td>\n      <td>0.0</td>\n      <td>1.0</td>\n      <td>2.0</td>\n      <td>1.0</td>\n      <td>0.0</td>\n      <td>3.0</td>\n      <td>2.0</td>\n      <td>4.0</td>\n      <td>6.0</td>\n    </tr>\n  </tbody>\n</table>\n<p>5 rows × 28 columns</p>\n</div>"
     },
     "metadata": {},
     "execution_count": 84
    }
   ],
   "source": [
    "# open games_details.csv from raw_data folder\n",
    "games_det = '../raw_data/games_details.csv'\n",
    "games_det = pd.read_csv(games_det)\n",
    "games_det.head()\n"
   ]
  },
  {
   "cell_type": "code",
   "execution_count": 86,
   "metadata": {},
   "outputs": [
    {
     "output_type": "execute_result",
     "data": {
      "text/plain": "    GAME_ID     TEAM_ID TEAM_ABBREVIATION  TEAM_CITY  PLAYER_ID  \\\n0  21900895  1610612749               MIL  Milwaukee     202083   \n1  21900895  1610612749               MIL  Milwaukee     203507   \n2  21900895  1610612749               MIL  Milwaukee     201572   \n3  21900895  1610612749               MIL  Milwaukee    1628978   \n4  21900895  1610612749               MIL  Milwaukee     202339   \n\n             PLAYER_NAME START_POSITION COMMENT    MIN   FGM  ...  OREB  DREB  \\\n0        Wesley Matthews              F     NaN  27:08   3.0  ...   4.0   4.0   \n1  Giannis Antetokounmpo              F     NaN  34:55  17.0  ...   2.0  18.0   \n2            Brook Lopez              C     NaN  26:25   4.0  ...   2.0   5.0   \n3       Donte DiVincenzo              G     NaN  27:35   1.0  ...   1.0   6.0   \n4           Eric Bledsoe              G     NaN  22:17   2.0  ...   1.0   0.0   \n\n    REB  AST  STL  BLK   TO   PF   PTS  PLUS_MINUS  \n0   8.0  2.0  2.0  0.0  0.0  0.0   8.0        11.0  \n1  20.0  6.0  1.0  0.0  3.0  2.0  41.0        22.0  \n2   7.0  0.0  0.0  3.0  0.0  2.0  16.0        16.0  \n3   7.0  5.0  0.0  1.0  2.0  0.0   2.0        14.0  \n4   1.0  2.0  1.0  0.0  3.0  2.0   4.0         6.0  \n\n[5 rows x 28 columns]",
      "text/html": "<div>\n<style scoped>\n    .dataframe tbody tr th:only-of-type {\n        vertical-align: middle;\n    }\n\n    .dataframe tbody tr th {\n        vertical-align: top;\n    }\n\n    .dataframe thead th {\n        text-align: right;\n    }\n</style>\n<table border=\"1\" class=\"dataframe\">\n  <thead>\n    <tr style=\"text-align: right;\">\n      <th></th>\n      <th>GAME_ID</th>\n      <th>TEAM_ID</th>\n      <th>TEAM_ABBREVIATION</th>\n      <th>TEAM_CITY</th>\n      <th>PLAYER_ID</th>\n      <th>PLAYER_NAME</th>\n      <th>START_POSITION</th>\n      <th>COMMENT</th>\n      <th>MIN</th>\n      <th>FGM</th>\n      <th>...</th>\n      <th>OREB</th>\n      <th>DREB</th>\n      <th>REB</th>\n      <th>AST</th>\n      <th>STL</th>\n      <th>BLK</th>\n      <th>TO</th>\n      <th>PF</th>\n      <th>PTS</th>\n      <th>PLUS_MINUS</th>\n    </tr>\n  </thead>\n  <tbody>\n    <tr>\n      <th>0</th>\n      <td>21900895</td>\n      <td>1610612749</td>\n      <td>MIL</td>\n      <td>Milwaukee</td>\n      <td>202083</td>\n      <td>Wesley Matthews</td>\n      <td>F</td>\n      <td>NaN</td>\n      <td>27:08</td>\n      <td>3.0</td>\n      <td>...</td>\n      <td>4.0</td>\n      <td>4.0</td>\n      <td>8.0</td>\n      <td>2.0</td>\n      <td>2.0</td>\n      <td>0.0</td>\n      <td>0.0</td>\n      <td>0.0</td>\n      <td>8.0</td>\n      <td>11.0</td>\n    </tr>\n    <tr>\n      <th>1</th>\n      <td>21900895</td>\n      <td>1610612749</td>\n      <td>MIL</td>\n      <td>Milwaukee</td>\n      <td>203507</td>\n      <td>Giannis Antetokounmpo</td>\n      <td>F</td>\n      <td>NaN</td>\n      <td>34:55</td>\n      <td>17.0</td>\n      <td>...</td>\n      <td>2.0</td>\n      <td>18.0</td>\n      <td>20.0</td>\n      <td>6.0</td>\n      <td>1.0</td>\n      <td>0.0</td>\n      <td>3.0</td>\n      <td>2.0</td>\n      <td>41.0</td>\n      <td>22.0</td>\n    </tr>\n    <tr>\n      <th>2</th>\n      <td>21900895</td>\n      <td>1610612749</td>\n      <td>MIL</td>\n      <td>Milwaukee</td>\n      <td>201572</td>\n      <td>Brook Lopez</td>\n      <td>C</td>\n      <td>NaN</td>\n      <td>26:25</td>\n      <td>4.0</td>\n      <td>...</td>\n      <td>2.0</td>\n      <td>5.0</td>\n      <td>7.0</td>\n      <td>0.0</td>\n      <td>0.0</td>\n      <td>3.0</td>\n      <td>0.0</td>\n      <td>2.0</td>\n      <td>16.0</td>\n      <td>16.0</td>\n    </tr>\n    <tr>\n      <th>3</th>\n      <td>21900895</td>\n      <td>1610612749</td>\n      <td>MIL</td>\n      <td>Milwaukee</td>\n      <td>1628978</td>\n      <td>Donte DiVincenzo</td>\n      <td>G</td>\n      <td>NaN</td>\n      <td>27:35</td>\n      <td>1.0</td>\n      <td>...</td>\n      <td>1.0</td>\n      <td>6.0</td>\n      <td>7.0</td>\n      <td>5.0</td>\n      <td>0.0</td>\n      <td>1.0</td>\n      <td>2.0</td>\n      <td>0.0</td>\n      <td>2.0</td>\n      <td>14.0</td>\n    </tr>\n    <tr>\n      <th>4</th>\n      <td>21900895</td>\n      <td>1610612749</td>\n      <td>MIL</td>\n      <td>Milwaukee</td>\n      <td>202339</td>\n      <td>Eric Bledsoe</td>\n      <td>G</td>\n      <td>NaN</td>\n      <td>22:17</td>\n      <td>2.0</td>\n      <td>...</td>\n      <td>1.0</td>\n      <td>0.0</td>\n      <td>1.0</td>\n      <td>2.0</td>\n      <td>1.0</td>\n      <td>0.0</td>\n      <td>3.0</td>\n      <td>2.0</td>\n      <td>4.0</td>\n      <td>6.0</td>\n    </tr>\n  </tbody>\n</table>\n<p>5 rows × 28 columns</p>\n</div>"
     },
     "metadata": {},
     "execution_count": 86
    }
   ],
   "source": [
    "# compare games id values in games_det data frame with values of games_id list\n",
    "games_det.isin({'GAME_ID': games_id})\n",
    "# keep only current season games id's in games_det dataframe \n",
    "games_det_new = games_det[games_det['GAME_ID'].isin(games_id)]\n",
    "# export to csv om py_data folder for further use\n",
    "games_det_new.to_csv('../py_data/games_details_2020season.csv',index=False, header=True)\n",
    "games_det_new.head()"
   ]
  },
  {
   "cell_type": "code",
   "execution_count": 92,
   "metadata": {},
   "outputs": [
    {
     "output_type": "execute_result",
     "data": {
      "text/plain": "      TEAM_ID  Conf\n0  1610612737  East\n1  1610612738  East\n2  1610612740  West\n3  1610612741  East\n4  1610612742  West",
      "text/html": "<div>\n<style scoped>\n    .dataframe tbody tr th:only-of-type {\n        vertical-align: middle;\n    }\n\n    .dataframe tbody tr th {\n        vertical-align: top;\n    }\n\n    .dataframe thead th {\n        text-align: right;\n    }\n</style>\n<table border=\"1\" class=\"dataframe\">\n  <thead>\n    <tr style=\"text-align: right;\">\n      <th></th>\n      <th>TEAM_ID</th>\n      <th>Conf</th>\n    </tr>\n  </thead>\n  <tbody>\n    <tr>\n      <th>0</th>\n      <td>1610612737</td>\n      <td>East</td>\n    </tr>\n    <tr>\n      <th>1</th>\n      <td>1610612738</td>\n      <td>East</td>\n    </tr>\n    <tr>\n      <th>2</th>\n      <td>1610612740</td>\n      <td>West</td>\n    </tr>\n    <tr>\n      <th>3</th>\n      <td>1610612741</td>\n      <td>East</td>\n    </tr>\n    <tr>\n      <th>4</th>\n      <td>1610612742</td>\n      <td>West</td>\n    </tr>\n  </tbody>\n</table>\n</div>"
     },
     "metadata": {},
     "execution_count": 92
    }
   ],
   "source": [
    "# open teams.csv from raw_data folder\n",
    "teams = '../raw_data/teams.csv'\n",
    "teams_df = pd.read_csv(teams)\n",
    "# df with selectd columns\n",
    "teams_conf = teams_df[[\"TEAM_ID\", \"Conf\"]]\n",
    "teams_conf.head()"
   ]
  },
  {
   "cell_type": "code",
   "execution_count": 94,
   "metadata": {},
   "outputs": [
    {
     "output_type": "execute_result",
     "data": {
      "text/plain": "    GAME_ID     TEAM_ID TEAM_ABBREVIATION  TEAM_CITY  PLAYER_ID  \\\n0  21900895  1610612749               MIL  Milwaukee     202083   \n1  21900895  1610612749               MIL  Milwaukee     203507   \n2  21900895  1610612749               MIL  Milwaukee     201572   \n3  21900895  1610612749               MIL  Milwaukee    1628978   \n4  21900895  1610612749               MIL  Milwaukee     202339   \n\n             PLAYER_NAME START_POSITION COMMENT    MIN   FGM  ...  DREB   REB  \\\n0        Wesley Matthews              F     NaN  27:08   3.0  ...   4.0   8.0   \n1  Giannis Antetokounmpo              F     NaN  34:55  17.0  ...  18.0  20.0   \n2            Brook Lopez              C     NaN  26:25   4.0  ...   5.0   7.0   \n3       Donte DiVincenzo              G     NaN  27:35   1.0  ...   6.0   7.0   \n4           Eric Bledsoe              G     NaN  22:17   2.0  ...   0.0   1.0   \n\n   AST  STL  BLK   TO   PF   PTS  PLUS_MINUS  Conf  \n0  2.0  2.0  0.0  0.0  0.0   8.0        11.0  East  \n1  6.0  1.0  0.0  3.0  2.0  41.0        22.0  East  \n2  0.0  0.0  3.0  0.0  2.0  16.0        16.0  East  \n3  5.0  0.0  1.0  2.0  0.0   2.0        14.0  East  \n4  2.0  1.0  0.0  3.0  2.0   4.0         6.0  East  \n\n[5 rows x 29 columns]",
      "text/html": "<div>\n<style scoped>\n    .dataframe tbody tr th:only-of-type {\n        vertical-align: middle;\n    }\n\n    .dataframe tbody tr th {\n        vertical-align: top;\n    }\n\n    .dataframe thead th {\n        text-align: right;\n    }\n</style>\n<table border=\"1\" class=\"dataframe\">\n  <thead>\n    <tr style=\"text-align: right;\">\n      <th></th>\n      <th>GAME_ID</th>\n      <th>TEAM_ID</th>\n      <th>TEAM_ABBREVIATION</th>\n      <th>TEAM_CITY</th>\n      <th>PLAYER_ID</th>\n      <th>PLAYER_NAME</th>\n      <th>START_POSITION</th>\n      <th>COMMENT</th>\n      <th>MIN</th>\n      <th>FGM</th>\n      <th>...</th>\n      <th>DREB</th>\n      <th>REB</th>\n      <th>AST</th>\n      <th>STL</th>\n      <th>BLK</th>\n      <th>TO</th>\n      <th>PF</th>\n      <th>PTS</th>\n      <th>PLUS_MINUS</th>\n      <th>Conf</th>\n    </tr>\n  </thead>\n  <tbody>\n    <tr>\n      <th>0</th>\n      <td>21900895</td>\n      <td>1610612749</td>\n      <td>MIL</td>\n      <td>Milwaukee</td>\n      <td>202083</td>\n      <td>Wesley Matthews</td>\n      <td>F</td>\n      <td>NaN</td>\n      <td>27:08</td>\n      <td>3.0</td>\n      <td>...</td>\n      <td>4.0</td>\n      <td>8.0</td>\n      <td>2.0</td>\n      <td>2.0</td>\n      <td>0.0</td>\n      <td>0.0</td>\n      <td>0.0</td>\n      <td>8.0</td>\n      <td>11.0</td>\n      <td>East</td>\n    </tr>\n    <tr>\n      <th>1</th>\n      <td>21900895</td>\n      <td>1610612749</td>\n      <td>MIL</td>\n      <td>Milwaukee</td>\n      <td>203507</td>\n      <td>Giannis Antetokounmpo</td>\n      <td>F</td>\n      <td>NaN</td>\n      <td>34:55</td>\n      <td>17.0</td>\n      <td>...</td>\n      <td>18.0</td>\n      <td>20.0</td>\n      <td>6.0</td>\n      <td>1.0</td>\n      <td>0.0</td>\n      <td>3.0</td>\n      <td>2.0</td>\n      <td>41.0</td>\n      <td>22.0</td>\n      <td>East</td>\n    </tr>\n    <tr>\n      <th>2</th>\n      <td>21900895</td>\n      <td>1610612749</td>\n      <td>MIL</td>\n      <td>Milwaukee</td>\n      <td>201572</td>\n      <td>Brook Lopez</td>\n      <td>C</td>\n      <td>NaN</td>\n      <td>26:25</td>\n      <td>4.0</td>\n      <td>...</td>\n      <td>5.0</td>\n      <td>7.0</td>\n      <td>0.0</td>\n      <td>0.0</td>\n      <td>3.0</td>\n      <td>0.0</td>\n      <td>2.0</td>\n      <td>16.0</td>\n      <td>16.0</td>\n      <td>East</td>\n    </tr>\n    <tr>\n      <th>3</th>\n      <td>21900895</td>\n      <td>1610612749</td>\n      <td>MIL</td>\n      <td>Milwaukee</td>\n      <td>1628978</td>\n      <td>Donte DiVincenzo</td>\n      <td>G</td>\n      <td>NaN</td>\n      <td>27:35</td>\n      <td>1.0</td>\n      <td>...</td>\n      <td>6.0</td>\n      <td>7.0</td>\n      <td>5.0</td>\n      <td>0.0</td>\n      <td>1.0</td>\n      <td>2.0</td>\n      <td>0.0</td>\n      <td>2.0</td>\n      <td>14.0</td>\n      <td>East</td>\n    </tr>\n    <tr>\n      <th>4</th>\n      <td>21900895</td>\n      <td>1610612749</td>\n      <td>MIL</td>\n      <td>Milwaukee</td>\n      <td>202339</td>\n      <td>Eric Bledsoe</td>\n      <td>G</td>\n      <td>NaN</td>\n      <td>22:17</td>\n      <td>2.0</td>\n      <td>...</td>\n      <td>0.0</td>\n      <td>1.0</td>\n      <td>2.0</td>\n      <td>1.0</td>\n      <td>0.0</td>\n      <td>3.0</td>\n      <td>2.0</td>\n      <td>4.0</td>\n      <td>6.0</td>\n      <td>East</td>\n    </tr>\n  </tbody>\n</table>\n<p>5 rows × 29 columns</p>\n</div>"
     },
     "metadata": {},
     "execution_count": 94
    }
   ],
   "source": [
    "# Merge teams and games details in order to split conference games\n",
    "games_det_df = pd.merge(games_det_new, teams_conf, on=\"TEAM_ID\", how='outer')\n",
    "games_det_df.to_csv('../py_data/games_details_by_conference.csv',index=True, header=True)\n",
    "games_det_df.head()"
   ]
  },
  {
   "cell_type": "code",
   "execution_count": 97,
   "metadata": {},
   "outputs": [
    {
     "output_type": "execute_result",
     "data": {
      "text/plain": "  GAME_DATE_EST   GAME_ID GAME_STATUS_TEXT  HOME_TEAM_ID  VISITOR_TEAM_ID  \\\n0      3/1/2020  21900895            Final    1610612766       1610612749   \n1      3/1/2020  21900896            Final    1610612750       1610612742   \n2      3/1/2020  21900897            Final    1610612746       1610612755   \n3      3/1/2020  21900898            Final    1610612743       1610612761   \n4      3/1/2020  21900899            Final    1610612758       1610612765   \n\n   SEASON  TEAM_ID_home  PTS_home  FG_PCT_home  FT_PCT_home  ...  AST_home  \\\n0    2019    1610612766        85        0.354        0.900  ...        22   \n1    2019    1610612750        91        0.364        0.400  ...        19   \n2    2019    1610612746       136        0.592        0.805  ...        25   \n3    2019    1610612743       133        0.566        0.700  ...        38   \n4    2019    1610612758       106        0.407        0.885  ...        18   \n\n   REB_home  TEAM_ID_away  PTS_away  FG_PCT_away  FT_PCT_away  FG3_PCT_away  \\\n0        47    1610612749        93        0.402        0.762         0.226   \n1        57    1610612742       111        0.468        0.632         0.275   \n2        37    1610612755       130        0.505        0.650         0.488   \n3        41    1610612761       118        0.461        0.897         0.263   \n4        51    1610612765       100        0.413        0.667         0.429   \n\n   AST_away  REB_away  HOME_TEAM_WINS  \n0        20        61               0  \n1        28        56               0  \n2        27        37               1  \n3        24        36               1  \n4        23        42               1  \n\n[5 rows x 21 columns]",
      "text/html": "<div>\n<style scoped>\n    .dataframe tbody tr th:only-of-type {\n        vertical-align: middle;\n    }\n\n    .dataframe tbody tr th {\n        vertical-align: top;\n    }\n\n    .dataframe thead th {\n        text-align: right;\n    }\n</style>\n<table border=\"1\" class=\"dataframe\">\n  <thead>\n    <tr style=\"text-align: right;\">\n      <th></th>\n      <th>GAME_DATE_EST</th>\n      <th>GAME_ID</th>\n      <th>GAME_STATUS_TEXT</th>\n      <th>HOME_TEAM_ID</th>\n      <th>VISITOR_TEAM_ID</th>\n      <th>SEASON</th>\n      <th>TEAM_ID_home</th>\n      <th>PTS_home</th>\n      <th>FG_PCT_home</th>\n      <th>FT_PCT_home</th>\n      <th>...</th>\n      <th>AST_home</th>\n      <th>REB_home</th>\n      <th>TEAM_ID_away</th>\n      <th>PTS_away</th>\n      <th>FG_PCT_away</th>\n      <th>FT_PCT_away</th>\n      <th>FG3_PCT_away</th>\n      <th>AST_away</th>\n      <th>REB_away</th>\n      <th>HOME_TEAM_WINS</th>\n    </tr>\n  </thead>\n  <tbody>\n    <tr>\n      <th>0</th>\n      <td>3/1/2020</td>\n      <td>21900895</td>\n      <td>Final</td>\n      <td>1610612766</td>\n      <td>1610612749</td>\n      <td>2019</td>\n      <td>1610612766</td>\n      <td>85</td>\n      <td>0.354</td>\n      <td>0.900</td>\n      <td>...</td>\n      <td>22</td>\n      <td>47</td>\n      <td>1610612749</td>\n      <td>93</td>\n      <td>0.402</td>\n      <td>0.762</td>\n      <td>0.226</td>\n      <td>20</td>\n      <td>61</td>\n      <td>0</td>\n    </tr>\n    <tr>\n      <th>1</th>\n      <td>3/1/2020</td>\n      <td>21900896</td>\n      <td>Final</td>\n      <td>1610612750</td>\n      <td>1610612742</td>\n      <td>2019</td>\n      <td>1610612750</td>\n      <td>91</td>\n      <td>0.364</td>\n      <td>0.400</td>\n      <td>...</td>\n      <td>19</td>\n      <td>57</td>\n      <td>1610612742</td>\n      <td>111</td>\n      <td>0.468</td>\n      <td>0.632</td>\n      <td>0.275</td>\n      <td>28</td>\n      <td>56</td>\n      <td>0</td>\n    </tr>\n    <tr>\n      <th>2</th>\n      <td>3/1/2020</td>\n      <td>21900897</td>\n      <td>Final</td>\n      <td>1610612746</td>\n      <td>1610612755</td>\n      <td>2019</td>\n      <td>1610612746</td>\n      <td>136</td>\n      <td>0.592</td>\n      <td>0.805</td>\n      <td>...</td>\n      <td>25</td>\n      <td>37</td>\n      <td>1610612755</td>\n      <td>130</td>\n      <td>0.505</td>\n      <td>0.650</td>\n      <td>0.488</td>\n      <td>27</td>\n      <td>37</td>\n      <td>1</td>\n    </tr>\n    <tr>\n      <th>3</th>\n      <td>3/1/2020</td>\n      <td>21900898</td>\n      <td>Final</td>\n      <td>1610612743</td>\n      <td>1610612761</td>\n      <td>2019</td>\n      <td>1610612743</td>\n      <td>133</td>\n      <td>0.566</td>\n      <td>0.700</td>\n      <td>...</td>\n      <td>38</td>\n      <td>41</td>\n      <td>1610612761</td>\n      <td>118</td>\n      <td>0.461</td>\n      <td>0.897</td>\n      <td>0.263</td>\n      <td>24</td>\n      <td>36</td>\n      <td>1</td>\n    </tr>\n    <tr>\n      <th>4</th>\n      <td>3/1/2020</td>\n      <td>21900899</td>\n      <td>Final</td>\n      <td>1610612758</td>\n      <td>1610612765</td>\n      <td>2019</td>\n      <td>1610612758</td>\n      <td>106</td>\n      <td>0.407</td>\n      <td>0.885</td>\n      <td>...</td>\n      <td>18</td>\n      <td>51</td>\n      <td>1610612765</td>\n      <td>100</td>\n      <td>0.413</td>\n      <td>0.667</td>\n      <td>0.429</td>\n      <td>23</td>\n      <td>42</td>\n      <td>1</td>\n    </tr>\n  </tbody>\n</table>\n<p>5 rows × 21 columns</p>\n</div>"
     },
     "metadata": {},
     "execution_count": 97
    }
   ],
   "source": [
    "games_df.head()"
   ]
  },
  {
   "cell_type": "code",
   "execution_count": 98,
   "metadata": {},
   "outputs": [
    {
     "output_type": "execute_result",
     "data": {
      "text/plain": "   LEAGUE_ID     TEAM_ID  Conf  MIN_YEAR  MAX_YEAR ABBREVIATION   NICKNAME  \\\n0          0  1610612737  East      1949      2019          ATL      Hawks   \n1          0  1610612738  East      1946      2019          BOS    Celtics   \n2          0  1610612740  West      2002      2019          NOP   Pelicans   \n3          0  1610612741  East      1966      2019          CHI      Bulls   \n4          0  1610612742  West      1980      2019          DAL  Mavericks   \n\n   YEARFOUNDED         CITY                     ARENA  ARENACAPACITY  \\\n0         1949      Atlanta          State Farm Arena        18729.0   \n1         1946       Boston                 TD Garden        18624.0   \n2         2002  New Orleans      Smoothie King Center            NaN   \n3         1966      Chicago             United Center        21711.0   \n4         1980       Dallas  American Airlines Center        19200.0   \n\n             OWNER  GENERALMANAGER      HEADCOACH DLEAGUEAFFILIATION  \n0     Tony Ressler  Travis Schlenk   Lloyd Pierce      Erie Bayhawks  \n1    Wyc Grousbeck     Danny Ainge   Brad Stevens    Maine Red Claws  \n2       Tom Benson  Trajan Langdon   Alvin Gentry       No Affiliate  \n3  Jerry Reinsdorf      Gar Forman     Jim Boylen   Windy City Bulls  \n4       Mark Cuban   Donnie Nelson  Rick Carlisle      Texas Legends  ",
      "text/html": "<div>\n<style scoped>\n    .dataframe tbody tr th:only-of-type {\n        vertical-align: middle;\n    }\n\n    .dataframe tbody tr th {\n        vertical-align: top;\n    }\n\n    .dataframe thead th {\n        text-align: right;\n    }\n</style>\n<table border=\"1\" class=\"dataframe\">\n  <thead>\n    <tr style=\"text-align: right;\">\n      <th></th>\n      <th>LEAGUE_ID</th>\n      <th>TEAM_ID</th>\n      <th>Conf</th>\n      <th>MIN_YEAR</th>\n      <th>MAX_YEAR</th>\n      <th>ABBREVIATION</th>\n      <th>NICKNAME</th>\n      <th>YEARFOUNDED</th>\n      <th>CITY</th>\n      <th>ARENA</th>\n      <th>ARENACAPACITY</th>\n      <th>OWNER</th>\n      <th>GENERALMANAGER</th>\n      <th>HEADCOACH</th>\n      <th>DLEAGUEAFFILIATION</th>\n    </tr>\n  </thead>\n  <tbody>\n    <tr>\n      <th>0</th>\n      <td>0</td>\n      <td>1610612737</td>\n      <td>East</td>\n      <td>1949</td>\n      <td>2019</td>\n      <td>ATL</td>\n      <td>Hawks</td>\n      <td>1949</td>\n      <td>Atlanta</td>\n      <td>State Farm Arena</td>\n      <td>18729.0</td>\n      <td>Tony Ressler</td>\n      <td>Travis Schlenk</td>\n      <td>Lloyd Pierce</td>\n      <td>Erie Bayhawks</td>\n    </tr>\n    <tr>\n      <th>1</th>\n      <td>0</td>\n      <td>1610612738</td>\n      <td>East</td>\n      <td>1946</td>\n      <td>2019</td>\n      <td>BOS</td>\n      <td>Celtics</td>\n      <td>1946</td>\n      <td>Boston</td>\n      <td>TD Garden</td>\n      <td>18624.0</td>\n      <td>Wyc Grousbeck</td>\n      <td>Danny Ainge</td>\n      <td>Brad Stevens</td>\n      <td>Maine Red Claws</td>\n    </tr>\n    <tr>\n      <th>2</th>\n      <td>0</td>\n      <td>1610612740</td>\n      <td>West</td>\n      <td>2002</td>\n      <td>2019</td>\n      <td>NOP</td>\n      <td>Pelicans</td>\n      <td>2002</td>\n      <td>New Orleans</td>\n      <td>Smoothie King Center</td>\n      <td>NaN</td>\n      <td>Tom Benson</td>\n      <td>Trajan Langdon</td>\n      <td>Alvin Gentry</td>\n      <td>No Affiliate</td>\n    </tr>\n    <tr>\n      <th>3</th>\n      <td>0</td>\n      <td>1610612741</td>\n      <td>East</td>\n      <td>1966</td>\n      <td>2019</td>\n      <td>CHI</td>\n      <td>Bulls</td>\n      <td>1966</td>\n      <td>Chicago</td>\n      <td>United Center</td>\n      <td>21711.0</td>\n      <td>Jerry Reinsdorf</td>\n      <td>Gar Forman</td>\n      <td>Jim Boylen</td>\n      <td>Windy City Bulls</td>\n    </tr>\n    <tr>\n      <th>4</th>\n      <td>0</td>\n      <td>1610612742</td>\n      <td>West</td>\n      <td>1980</td>\n      <td>2019</td>\n      <td>DAL</td>\n      <td>Mavericks</td>\n      <td>1980</td>\n      <td>Dallas</td>\n      <td>American Airlines Center</td>\n      <td>19200.0</td>\n      <td>Mark Cuban</td>\n      <td>Donnie Nelson</td>\n      <td>Rick Carlisle</td>\n      <td>Texas Legends</td>\n    </tr>\n  </tbody>\n</table>\n</div>"
     },
     "metadata": {},
     "execution_count": 98
    }
   ],
   "source": [
    "teams_df.head()"
   ]
  },
  {
   "cell_type": "code",
   "execution_count": null,
   "metadata": {},
   "outputs": [],
   "source": []
  }
 ],
 "metadata": {
  "language_info": {
   "codemirror_mode": {
    "name": "ipython",
    "version": 3
   },
   "file_extension": ".py",
   "mimetype": "text/x-python",
   "name": "python",
   "nbconvert_exporter": "python",
   "pygments_lexer": "ipython3",
   "version": "3.7.6-final"
  },
  "orig_nbformat": 2,
  "kernelspec": {
   "name": "python3",
   "display_name": "Python 3"
  }
 },
 "nbformat": 4,
 "nbformat_minor": 2
}