{
 "cells": [
  {
   "cell_type": "code",
   "execution_count": 1,
   "metadata": {},
   "outputs": [],
   "source": [
    "import matplotlib.pyplot as plt\n",
    "import pandas as pd\n",
    "import numpy as np\n",
    "import requests\n",
    "import gmaps\n",
    "import os\n",
    "import json\n",
    "import matplotlib.image as mpimg\n",
    "import matplotlib as mpl\n",
    "\n",
    "# Import API key\n",
    "from api_keys import g_key"
   ]
  },
  {
   "cell_type": "code",
   "execution_count": 44,
   "metadata": {
    "tags": []
   },
   "outputs": [
    {
     "output_type": "stream",
     "name": "stdout",
     "text": "In season 2019-2020 prior to COVID-19 were played: 602 games\n"
    }
   ],
   "source": [
    "# open games.csv from raw_data folder\n",
    "games = '../raw_data/games.csv'\n",
    "games_df = pd.read_csv(games)\n",
    "# make a list of current season games ID's\n",
    "games_df.head()\n",
    "games_id = list(games_df['GAME_ID'])\n",
    "print(f\"In season 2019-2020 prior to COVID-19 were played: {len(games_id)} games\")"
   ]
  },
  {
   "cell_type": "code",
   "execution_count": 37,
   "metadata": {},
   "outputs": [
    {
     "output_type": "execute_result",
     "data": {
      "text/plain": "         GAME_ID     TEAM_ID TEAM_ABBREVIATION  TEAM_CITY  PLAYER_ID  \\\n0       21900895  1610612749               MIL  Milwaukee     202083   \n1       21900895  1610612749               MIL  Milwaukee     203507   \n2       21900895  1610612749               MIL  Milwaukee     201572   \n3       21900895  1610612749               MIL  Milwaukee    1628978   \n4       21900895  1610612749               MIL  Milwaukee     202339   \n...          ...         ...               ...        ...        ...   \n576777  11200005  1610612743               DEN     Denver     202706   \n576778  11200005  1610612743               DEN     Denver     202702   \n576779  11200005  1610612743               DEN     Denver     201585   \n576780  11200005  1610612743               DEN     Denver     202389   \n576781  11200005  1610612743               DEN     Denver     201951   \n\n                  PLAYER_NAME START_POSITION COMMENT    MIN   FGM  ...  OREB  \\\n0             Wesley Matthews              F     NaN  27:08   3.0  ...   4.0   \n1       Giannis Antetokounmpo              F     NaN  34:55  17.0  ...   2.0   \n2                 Brook Lopez              C     NaN  26:25   4.0  ...   2.0   \n3            Donte DiVincenzo              G     NaN  27:35   1.0  ...   1.0   \n4                Eric Bledsoe              G     NaN  22:17   2.0  ...   1.0   \n...                       ...            ...     ...    ...   ...  ...   ...   \n576777        Jordan Hamilton            NaN     NaN     19   4.0  ...   0.0   \n576778         Kenneth Faried            NaN     NaN     23   7.0  ...   1.0   \n576779           Kosta Koufos            NaN     NaN     15   3.0  ...   3.0   \n576780         Timofey Mozgov            NaN     NaN     19   1.0  ...   1.0   \n576781              Ty Lawson            NaN     NaN     27   3.0  ...   0.0   \n\n        DREB   REB  AST  STL  BLK   TO   PF   PTS  PLUS_MINUS  \n0        4.0   8.0  2.0  2.0  0.0  0.0  0.0   8.0        11.0  \n1       18.0  20.0  6.0  1.0  0.0  3.0  2.0  41.0        22.0  \n2        5.0   7.0  0.0  0.0  3.0  0.0  2.0  16.0        16.0  \n3        6.0   7.0  5.0  0.0  1.0  2.0  0.0   2.0        14.0  \n4        0.0   1.0  2.0  1.0  0.0  3.0  2.0   4.0         6.0  \n...      ...   ...  ...  ...  ...  ...  ...   ...         ...  \n576777   2.0   2.0  0.0  2.0  0.0  1.0  3.0  17.0         NaN  \n576778   0.0   1.0  1.0  1.0  0.0  3.0  3.0  18.0         NaN  \n576779   5.0   8.0  0.0  1.0  0.0  0.0  3.0   6.0         NaN  \n576780   2.0   3.0  1.0  0.0  0.0  4.0  2.0   2.0         NaN  \n576781   2.0   2.0  6.0  2.0  0.0  6.0  1.0   8.0         NaN  \n\n[576782 rows x 28 columns]",
      "text/html": "<div>\n<style scoped>\n    .dataframe tbody tr th:only-of-type {\n        vertical-align: middle;\n    }\n\n    .dataframe tbody tr th {\n        vertical-align: top;\n    }\n\n    .dataframe thead th {\n        text-align: right;\n    }\n</style>\n<table border=\"1\" class=\"dataframe\">\n  <thead>\n    <tr style=\"text-align: right;\">\n      <th></th>\n      <th>GAME_ID</th>\n      <th>TEAM_ID</th>\n      <th>TEAM_ABBREVIATION</th>\n      <th>TEAM_CITY</th>\n      <th>PLAYER_ID</th>\n      <th>PLAYER_NAME</th>\n      <th>START_POSITION</th>\n      <th>COMMENT</th>\n      <th>MIN</th>\n      <th>FGM</th>\n      <th>...</th>\n      <th>OREB</th>\n      <th>DREB</th>\n      <th>REB</th>\n      <th>AST</th>\n      <th>STL</th>\n      <th>BLK</th>\n      <th>TO</th>\n      <th>PF</th>\n      <th>PTS</th>\n      <th>PLUS_MINUS</th>\n    </tr>\n  </thead>\n  <tbody>\n    <tr>\n      <th>0</th>\n      <td>21900895</td>\n      <td>1610612749</td>\n      <td>MIL</td>\n      <td>Milwaukee</td>\n      <td>202083</td>\n      <td>Wesley Matthews</td>\n      <td>F</td>\n      <td>NaN</td>\n      <td>27:08</td>\n      <td>3.0</td>\n      <td>...</td>\n      <td>4.0</td>\n      <td>4.0</td>\n      <td>8.0</td>\n      <td>2.0</td>\n      <td>2.0</td>\n      <td>0.0</td>\n      <td>0.0</td>\n      <td>0.0</td>\n      <td>8.0</td>\n      <td>11.0</td>\n    </tr>\n    <tr>\n      <th>1</th>\n      <td>21900895</td>\n      <td>1610612749</td>\n      <td>MIL</td>\n      <td>Milwaukee</td>\n      <td>203507</td>\n      <td>Giannis Antetokounmpo</td>\n      <td>F</td>\n      <td>NaN</td>\n      <td>34:55</td>\n      <td>17.0</td>\n      <td>...</td>\n      <td>2.0</td>\n      <td>18.0</td>\n      <td>20.0</td>\n      <td>6.0</td>\n      <td>1.0</td>\n      <td>0.0</td>\n      <td>3.0</td>\n      <td>2.0</td>\n      <td>41.0</td>\n      <td>22.0</td>\n    </tr>\n    <tr>\n      <th>2</th>\n      <td>21900895</td>\n      <td>1610612749</td>\n      <td>MIL</td>\n      <td>Milwaukee</td>\n      <td>201572</td>\n      <td>Brook Lopez</td>\n      <td>C</td>\n      <td>NaN</td>\n      <td>26:25</td>\n      <td>4.0</td>\n      <td>...</td>\n      <td>2.0</td>\n      <td>5.0</td>\n      <td>7.0</td>\n      <td>0.0</td>\n      <td>0.0</td>\n      <td>3.0</td>\n      <td>0.0</td>\n      <td>2.0</td>\n      <td>16.0</td>\n      <td>16.0</td>\n    </tr>\n    <tr>\n      <th>3</th>\n      <td>21900895</td>\n      <td>1610612749</td>\n      <td>MIL</td>\n      <td>Milwaukee</td>\n      <td>1628978</td>\n      <td>Donte DiVincenzo</td>\n      <td>G</td>\n      <td>NaN</td>\n      <td>27:35</td>\n      <td>1.0</td>\n      <td>...</td>\n      <td>1.0</td>\n      <td>6.0</td>\n      <td>7.0</td>\n      <td>5.0</td>\n      <td>0.0</td>\n      <td>1.0</td>\n      <td>2.0</td>\n      <td>0.0</td>\n      <td>2.0</td>\n      <td>14.0</td>\n    </tr>\n    <tr>\n      <th>4</th>\n      <td>21900895</td>\n      <td>1610612749</td>\n      <td>MIL</td>\n      <td>Milwaukee</td>\n      <td>202339</td>\n      <td>Eric Bledsoe</td>\n      <td>G</td>\n      <td>NaN</td>\n      <td>22:17</td>\n      <td>2.0</td>\n      <td>...</td>\n      <td>1.0</td>\n      <td>0.0</td>\n      <td>1.0</td>\n      <td>2.0</td>\n      <td>1.0</td>\n      <td>0.0</td>\n      <td>3.0</td>\n      <td>2.0</td>\n      <td>4.0</td>\n      <td>6.0</td>\n    </tr>\n    <tr>\n      <th>...</th>\n      <td>...</td>\n      <td>...</td>\n      <td>...</td>\n      <td>...</td>\n      <td>...</td>\n      <td>...</td>\n      <td>...</td>\n      <td>...</td>\n      <td>...</td>\n      <td>...</td>\n      <td>...</td>\n      <td>...</td>\n      <td>...</td>\n      <td>...</td>\n      <td>...</td>\n      <td>...</td>\n      <td>...</td>\n      <td>...</td>\n      <td>...</td>\n      <td>...</td>\n      <td>...</td>\n    </tr>\n    <tr>\n      <th>576777</th>\n      <td>11200005</td>\n      <td>1610612743</td>\n      <td>DEN</td>\n      <td>Denver</td>\n      <td>202706</td>\n      <td>Jordan Hamilton</td>\n      <td>NaN</td>\n      <td>NaN</td>\n      <td>19</td>\n      <td>4.0</td>\n      <td>...</td>\n      <td>0.0</td>\n      <td>2.0</td>\n      <td>2.0</td>\n      <td>0.0</td>\n      <td>2.0</td>\n      <td>0.0</td>\n      <td>1.0</td>\n      <td>3.0</td>\n      <td>17.0</td>\n      <td>NaN</td>\n    </tr>\n    <tr>\n      <th>576778</th>\n      <td>11200005</td>\n      <td>1610612743</td>\n      <td>DEN</td>\n      <td>Denver</td>\n      <td>202702</td>\n      <td>Kenneth Faried</td>\n      <td>NaN</td>\n      <td>NaN</td>\n      <td>23</td>\n      <td>7.0</td>\n      <td>...</td>\n      <td>1.0</td>\n      <td>0.0</td>\n      <td>1.0</td>\n      <td>1.0</td>\n      <td>1.0</td>\n      <td>0.0</td>\n      <td>3.0</td>\n      <td>3.0</td>\n      <td>18.0</td>\n      <td>NaN</td>\n    </tr>\n    <tr>\n      <th>576779</th>\n      <td>11200005</td>\n      <td>1610612743</td>\n      <td>DEN</td>\n      <td>Denver</td>\n      <td>201585</td>\n      <td>Kosta Koufos</td>\n      <td>NaN</td>\n      <td>NaN</td>\n      <td>15</td>\n      <td>3.0</td>\n      <td>...</td>\n      <td>3.0</td>\n      <td>5.0</td>\n      <td>8.0</td>\n      <td>0.0</td>\n      <td>1.0</td>\n      <td>0.0</td>\n      <td>0.0</td>\n      <td>3.0</td>\n      <td>6.0</td>\n      <td>NaN</td>\n    </tr>\n    <tr>\n      <th>576780</th>\n      <td>11200005</td>\n      <td>1610612743</td>\n      <td>DEN</td>\n      <td>Denver</td>\n      <td>202389</td>\n      <td>Timofey Mozgov</td>\n      <td>NaN</td>\n      <td>NaN</td>\n      <td>19</td>\n      <td>1.0</td>\n      <td>...</td>\n      <td>1.0</td>\n      <td>2.0</td>\n      <td>3.0</td>\n      <td>1.0</td>\n      <td>0.0</td>\n      <td>0.0</td>\n      <td>4.0</td>\n      <td>2.0</td>\n      <td>2.0</td>\n      <td>NaN</td>\n    </tr>\n    <tr>\n      <th>576781</th>\n      <td>11200005</td>\n      <td>1610612743</td>\n      <td>DEN</td>\n      <td>Denver</td>\n      <td>201951</td>\n      <td>Ty Lawson</td>\n      <td>NaN</td>\n      <td>NaN</td>\n      <td>27</td>\n      <td>3.0</td>\n      <td>...</td>\n      <td>0.0</td>\n      <td>2.0</td>\n      <td>2.0</td>\n      <td>6.0</td>\n      <td>2.0</td>\n      <td>0.0</td>\n      <td>6.0</td>\n      <td>1.0</td>\n      <td>8.0</td>\n      <td>NaN</td>\n    </tr>\n  </tbody>\n</table>\n<p>576782 rows × 28 columns</p>\n</div>"
     },
     "metadata": {},
     "execution_count": 37
    }
   ],
   "source": [
    "# open games_details.csv from raw_data folder\n",
    "games_det = '../raw_data/games_details.csv'\n",
    "games_det = pd.read_csv(games_det)\n",
    "games_det\n"
   ]
  },
  {
   "cell_type": "code",
   "execution_count": 39,
   "metadata": {},
   "outputs": [],
   "source": [
    "# compare games id values in games_det data frame with values of games_id list\n",
    "games_det.isin({'GAME_ID': games_id})\n",
    "# keep only current season games id's in games_det dataframe \n",
    "games_det = games_det[games_det['GAME_ID'].isin(games_id)]\n",
    "# export to csv om py_data folder for further use\n",
    "games_det.to_csv('../py_data/games_details_2020season.csv',index=False, header=True)"
   ]
  },
  {
   "cell_type": "code",
   "execution_count": null,
   "metadata": {},
   "outputs": [],
   "source": []
  }
 ],
 "metadata": {
  "language_info": {
   "codemirror_mode": {
    "name": "ipython",
    "version": 3
   },
   "file_extension": ".py",
   "mimetype": "text/x-python",
   "name": "python",
   "nbconvert_exporter": "python",
   "pygments_lexer": "ipython3",
   "version": "3.7.6-final"
  },
  "orig_nbformat": 2,
  "kernelspec": {
   "name": "python3",
   "display_name": "Python 3"
  }
 },
 "nbformat": 4,
 "nbformat_minor": 2
}