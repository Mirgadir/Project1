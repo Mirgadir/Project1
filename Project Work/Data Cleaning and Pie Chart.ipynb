{
 "cells": [
  {
   "cell_type": "code",
   "execution_count": 94,
   "metadata": {},
   "outputs": [],
   "source": [
    "import pandas as pd\n",
    "import matplotlib.pyplot as plt\n",
    "import numpy as np"
   ]
  },
  {
   "cell_type": "code",
   "execution_count": 95,
   "metadata": {},
   "outputs": [
    {
     "data": {
      "text/html": [
       "<div>\n",
       "<style scoped>\n",
       "    .dataframe tbody tr th:only-of-type {\n",
       "        vertical-align: middle;\n",
       "    }\n",
       "\n",
       "    .dataframe tbody tr th {\n",
       "        vertical-align: top;\n",
       "    }\n",
       "\n",
       "    .dataframe thead th {\n",
       "        text-align: right;\n",
       "    }\n",
       "</style>\n",
       "<table border=\"1\" class=\"dataframe\">\n",
       "  <thead>\n",
       "    <tr style=\"text-align: right;\">\n",
       "      <th></th>\n",
       "      <th>Date</th>\n",
       "      <th>Home Team</th>\n",
       "      <th>Home Score</th>\n",
       "      <th>Road Team</th>\n",
       "      <th>Road Score</th>\n",
       "      <th>Venue</th>\n",
       "    </tr>\n",
       "  </thead>\n",
       "  <tbody>\n",
       "    <tr>\n",
       "      <th>0</th>\n",
       "      <td>2019-10-23T00:00:00.000Z</td>\n",
       "      <td>TOR</td>\n",
       "      <td>130.0</td>\n",
       "      <td>NOP</td>\n",
       "      <td>122.0</td>\n",
       "      <td>Scotiabank Arena</td>\n",
       "    </tr>\n",
       "    <tr>\n",
       "      <th>1</th>\n",
       "      <td>2019-10-23T02:30:00.000Z</td>\n",
       "      <td>LAC</td>\n",
       "      <td>112.0</td>\n",
       "      <td>LAL</td>\n",
       "      <td>102.0</td>\n",
       "      <td>Staples Center</td>\n",
       "    </tr>\n",
       "    <tr>\n",
       "      <th>2</th>\n",
       "      <td>2019-10-23T23:00:00.000Z</td>\n",
       "      <td>CHA</td>\n",
       "      <td>126.0</td>\n",
       "      <td>CHI</td>\n",
       "      <td>125.0</td>\n",
       "      <td>Spectrum Center</td>\n",
       "    </tr>\n",
       "    <tr>\n",
       "      <th>3</th>\n",
       "      <td>2019-10-23T23:00:00.000Z</td>\n",
       "      <td>ORL</td>\n",
       "      <td>94.0</td>\n",
       "      <td>CLE</td>\n",
       "      <td>85.0</td>\n",
       "      <td>Amway Center</td>\n",
       "    </tr>\n",
       "    <tr>\n",
       "      <th>4</th>\n",
       "      <td>2019-10-23T23:00:00.000Z</td>\n",
       "      <td>IND</td>\n",
       "      <td>110.0</td>\n",
       "      <td>DET</td>\n",
       "      <td>119.0</td>\n",
       "      <td>Bankers Life Fieldhouse</td>\n",
       "    </tr>\n",
       "    <tr>\n",
       "      <th>...</th>\n",
       "      <td>...</td>\n",
       "      <td>...</td>\n",
       "      <td>...</td>\n",
       "      <td>...</td>\n",
       "      <td>...</td>\n",
       "      <td>...</td>\n",
       "    </tr>\n",
       "    <tr>\n",
       "      <th>966</th>\n",
       "      <td>2020-03-11T02:30:00.000Z</td>\n",
       "      <td>GSW</td>\n",
       "      <td>107.0</td>\n",
       "      <td>LAC</td>\n",
       "      <td>131.0</td>\n",
       "      <td>Chase Center</td>\n",
       "    </tr>\n",
       "    <tr>\n",
       "      <th>967</th>\n",
       "      <td>2020-03-11T23:00:00.000Z</td>\n",
       "      <td>PHI</td>\n",
       "      <td>124.0</td>\n",
       "      <td>DET</td>\n",
       "      <td>106.0</td>\n",
       "      <td>Wells Fargo Center</td>\n",
       "    </tr>\n",
       "    <tr>\n",
       "      <th>968</th>\n",
       "      <td>2020-03-11T23:30:00.000Z</td>\n",
       "      <td>MIA</td>\n",
       "      <td>98.0</td>\n",
       "      <td>CHA</td>\n",
       "      <td>109.0</td>\n",
       "      <td>American Airlines Arena</td>\n",
       "    </tr>\n",
       "    <tr>\n",
       "      <th>969</th>\n",
       "      <td>2020-03-11T23:30:00.000Z</td>\n",
       "      <td>ATL</td>\n",
       "      <td>131.0</td>\n",
       "      <td>NYK</td>\n",
       "      <td>136.0</td>\n",
       "      <td>State Farm Arena</td>\n",
       "    </tr>\n",
       "    <tr>\n",
       "      <th>970</th>\n",
       "      <td>2020-03-12T00:00:00.000Z</td>\n",
       "      <td>DAL</td>\n",
       "      <td>113.0</td>\n",
       "      <td>DEN</td>\n",
       "      <td>97.0</td>\n",
       "      <td>American Airlines Center</td>\n",
       "    </tr>\n",
       "  </tbody>\n",
       "</table>\n",
       "<p>971 rows × 6 columns</p>\n",
       "</div>"
      ],
      "text/plain": [
       "                         Date Home Team  Home Score Road Team  Road Score  \\\n",
       "0    2019-10-23T00:00:00.000Z       TOR       130.0       NOP       122.0   \n",
       "1    2019-10-23T02:30:00.000Z       LAC       112.0       LAL       102.0   \n",
       "2    2019-10-23T23:00:00.000Z       CHA       126.0       CHI       125.0   \n",
       "3    2019-10-23T23:00:00.000Z       ORL        94.0       CLE        85.0   \n",
       "4    2019-10-23T23:00:00.000Z       IND       110.0       DET       119.0   \n",
       "..                        ...       ...         ...       ...         ...   \n",
       "966  2020-03-11T02:30:00.000Z       GSW       107.0       LAC       131.0   \n",
       "967  2020-03-11T23:00:00.000Z       PHI       124.0       DET       106.0   \n",
       "968  2020-03-11T23:30:00.000Z       MIA        98.0       CHA       109.0   \n",
       "969  2020-03-11T23:30:00.000Z       ATL       131.0       NYK       136.0   \n",
       "970  2020-03-12T00:00:00.000Z       DAL       113.0       DEN        97.0   \n",
       "\n",
       "                        Venue  \n",
       "0            Scotiabank Arena  \n",
       "1              Staples Center  \n",
       "2             Spectrum Center  \n",
       "3                Amway Center  \n",
       "4     Bankers Life Fieldhouse  \n",
       "..                        ...  \n",
       "966              Chase Center  \n",
       "967        Wells Fargo Center  \n",
       "968   American Airlines Arena  \n",
       "969          State Farm Arena  \n",
       "970  American Airlines Center  \n",
       "\n",
       "[971 rows x 6 columns]"
      ]
     },
     "execution_count": 95,
     "metadata": {},
     "output_type": "execute_result"
    }
   ],
   "source": [
    "games_df = pd.read_csv(\"Raw_Data/2019-2020-NBA.csv\")\n",
    "games_df = games_df.drop(columns = ['Unnamed: 0'],axis=1)\n",
    "game_df = games_df.dropna()\n",
    "game_df"
   ]
  },
  {
   "cell_type": "code",
   "execution_count": 96,
   "metadata": {},
   "outputs": [
    {
     "name": "stdout",
     "output_type": "stream",
     "text": [
      "535\n",
      "436\n"
     ]
    }
   ],
   "source": [
    "home_wins = 0\n",
    "home_losses = 0\n",
    "for index, row in game_df.iterrows():\n",
    "    if row[\"Home Score\"]>row[\"Road Score\"]:\n",
    "        home_wins += 1 \n",
    "    else:\n",
    "        home_losses += 1\n",
    "print(home_wins)\n",
    "print(home_losses)\n"
   ]
  },
  {
   "cell_type": "code",
   "execution_count": 113,
   "metadata": {
    "scrolled": false
   },
   "outputs": [
    {
     "data": {
      "text/html": [
       "<div>\n",
       "<style scoped>\n",
       "    .dataframe tbody tr th:only-of-type {\n",
       "        vertical-align: middle;\n",
       "    }\n",
       "\n",
       "    .dataframe tbody tr th {\n",
       "        vertical-align: top;\n",
       "    }\n",
       "\n",
       "    .dataframe thead th {\n",
       "        text-align: right;\n",
       "    }\n",
       "</style>\n",
       "<table border=\"1\" class=\"dataframe\">\n",
       "  <thead>\n",
       "    <tr style=\"text-align: right;\">\n",
       "      <th></th>\n",
       "      <th>Home Team Wins</th>\n",
       "      <th>Home Team Losses</th>\n",
       "    </tr>\n",
       "  </thead>\n",
       "  <tbody>\n",
       "    <tr>\n",
       "      <th>0</th>\n",
       "      <td>535</td>\n",
       "      <td>436</td>\n",
       "    </tr>\n",
       "  </tbody>\n",
       "</table>\n",
       "</div>"
      ],
      "text/plain": [
       "   Home Team Wins  Home Team Losses\n",
       "0             535               436"
      ]
     },
     "execution_count": 113,
     "metadata": {},
     "output_type": "execute_result"
    }
   ],
   "source": [
    "home_wins_df = pd.DataFrame({\"Home Team Wins\":[home_wins],\n",
    "                            \"Home Team Losses\":[home_losses]})\n",
    "home_switched = home_wins_df.swapaxes(\"index\", \"columns\")\n",
    "home_switched = home_switched.rename(columns = {0:\"Home Games\"})\n",
    "home_wins_df"
   ]
  },
  {
   "cell_type": "code",
   "execution_count": 131,
   "metadata": {},
   "outputs": [
    {
     "data": {
      "image/png": "[encoded data removed]",
      "text/plain": [
       "<Figure size 432x288 with 1 Axes>"
      ]
     },
     "metadata": {},
     "output_type": "display_data"
    }
   ],
   "source": [
    "home_pie = home_switched.plot(kind=\"pie\",y=0, title = \"Home Team W/L Ratio\", autopct='%1.1f%%',\n",
    "                                        shadow= True, startangle = 180, legend = False, )\n",
    "patches, labels = home_pie.get_legend_handles_labels()\n",
    "plt.savefig(\"Images/home_game_pie.png\")"
   ]
  },
  {
   "cell_type": "code",
   "execution_count": 130,
   "metadata": {
    "scrolled": true
   },
   "outputs": [
    {
     "data": {
      "image/png": "[encoded data removed]",
      "text/plain": [
       "<Figure size 432x288 with 1 Axes>"
      ]
     },
     "metadata": {
      "needs_background": "light"
     },
     "output_type": "display_data"
    }
   ],
   "source": [
    "labels = [\"Home Wins\", \"Home Losses\"]\n",
    "xticks = np.arange(len(labels))\n",
    "plt.bar(labels, home_wins_df.loc[0], color=(\"b\",\"r\"), width = .5)\n",
    "plt.ylabel(\"Games\")\n",
    "plt.ylim(0,600)\n",
    "plt.title(\"Home Arena Advantage\")\n",
    "plt.savefig(\"Images/home_game_bar.png\")"
   ]
  }
 ],
 "metadata": {
  "kernelspec": {
   "display_name": "Python 3",
   "language": "python",
   "name": "python3"
  },
  "language_info": {
   "codemirror_mode": {
    "name": "ipython",
    "version": 3
   },
   "file_extension": ".py",
   "mimetype": "text/x-python",
   "name": "python",
   "nbconvert_exporter": "python",
   "pygments_lexer": "ipython3",
   "version": "3.7.6"
  }
 },
 "nbformat": 4,
 "nbformat_minor": 4
}
